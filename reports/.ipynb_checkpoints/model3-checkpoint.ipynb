{
 "cells": [
  {
   "cell_type": "code",
   "execution_count": 1,
   "metadata": {
    "colab": {
     "autoexec": {
      "startup": false,
      "wait_interval": 0
     }
    },
    "colab_type": "code",
    "id": "nqup8AeeQTwS"
   },
   "outputs": [
    {
     "name": "stderr",
     "output_type": "stream",
     "text": [
      "C:\\Users\\Kalle\\Anaconda3\\envs\\german\\lib\\site-packages\\h5py\\__init__.py:36: FutureWarning: Conversion of the second argument of issubdtype from `float` to `np.floating` is deprecated. In future, it will be treated as `np.float64 == np.dtype(float).type`.\n",
      "  from ._conv import register_converters as _register_converters\n"
     ]
    }
   ],
   "source": [
    "import os\n",
    "from zipfile import ZipFile\n",
    "import numpy as np\n",
    "import matplotlib.pyplot as plt\n",
    "from PIL import Image, ImageOps\n",
    "import glob\n",
    "import tensorflow as tf\n",
    "\n",
    "%matplotlib inline"
   ]
  },
  {
   "cell_type": "code",
   "execution_count": 4,
   "metadata": {
    "colab": {
     "autoexec": {
      "startup": false,
      "wait_interval": 0
     },
     "base_uri": "https://localhost:8080/",
     "height": 34
    },
    "colab_type": "code",
    "executionInfo": {
     "elapsed": 1860,
     "status": "ok",
     "timestamp": 1526665405372,
     "user": {
      "displayName": "Kalle Bylin",
      "photoUrl": "https://lh3.googleusercontent.com/a/default-user=s128",
      "userId": "106403157380623395607"
     },
     "user_tz": 300
    },
    "id": "57lp0LrbetWJ",
    "outputId": "a30eb7f9-7cc1-4dba-8518-d2126e998ffe"
   },
   "outputs": [
    {
     "name": "stdout",
     "output_type": "stream",
     "text": [
      "Done\n"
     ]
    }
   ],
   "source": [
    "def load_img(path, size):\n",
    "    img = Image.open(path)\n",
    "    old_size = img.size\n",
    "\n",
    "    ratio = float(size/max(old_size))\n",
    "    new_size = tuple([int(x*ratio) for x in old_size])\n",
    "\n",
    "    img = img.resize(new_size, Image.ANTIALIAS)\n",
    "    delta_w = size - new_size[0]\n",
    "    delta_h = size - new_size[1]\n",
    "    padding = (delta_w//2, delta_h//2, delta_w-(delta_w//2), delta_h-(delta_h//2))\n",
    "    img = ImageOps.expand(img, padding)\n",
    "    return np.array(img)\n",
    "    \n",
    "X_train = []\n",
    "y_train = []\n",
    "X_test = []\n",
    "y_test = []\n",
    "\n",
    "size = 28\n",
    "\n",
    "for j in range(43):\n",
    "    train_path = os.path.join('../images', 'train', str(j).rjust(2, '0'), '*.ppm')\n",
    "    files = glob.glob(train_path)\n",
    "    for file in files:\n",
    "        X_train.append(load_img(file, size))\n",
    "        y_train.append(j)\n",
    "        \n",
    "    test_path = os.path.join('../images', 'test', str(j).rjust(2, '0'), '*.ppm')\n",
    "    files = glob.glob(test_path)\n",
    "    for file in files:\n",
    "        X_test.append(load_img(file, size))\n",
    "        y_test.append(j)\n",
    "\n",
    "X_train = np.array(X_train, dtype=np.float32)\n",
    "y_train = np.array(y_train, dtype=np.float32)\n",
    "X_test = np.array(X_test, dtype=np.float32)\n",
    "y_test = np.array(y_test, dtype=np.float32)\n",
    "\n",
    "print('Done')"
   ]
  },
  {
   "cell_type": "code",
   "execution_count": 5,
   "metadata": {},
   "outputs": [
    {
     "data": {
      "text/plain": [
       "<matplotlib.image.AxesImage at 0x22ed0b186d8>"
      ]
     },
     "execution_count": 5,
     "metadata": {},
     "output_type": "execute_result"
    },
    {
     "data": {
      "image/png": "[encoded data removed]",
      "text/plain": [
       "<Figure size 432x288 with 1 Axes>"
      ]
     },
     "metadata": {},
     "output_type": "display_data"
    }
   ],
   "source": [
    "img = Image.open('../images/train/00/00001.ppm')\n",
    "plt.imshow(img)"
   ]
  },
  {
   "cell_type": "code",
   "execution_count": 5,
   "metadata": {
    "colab": {
     "autoexec": {
      "startup": false,
      "wait_interval": 0
     },
     "base_uri": "https://localhost:8080/",
     "height": 52
    },
    "colab_type": "code",
    "executionInfo": {
     "elapsed": 674,
     "status": "ok",
     "timestamp": 1526665406454,
     "user": {
      "displayName": "Kalle Bylin",
      "photoUrl": "https://lh3.googleusercontent.com/a/default-user=s128",
      "userId": "106403157380623395607"
     },
     "user_tz": 300
    },
    "id": "MJZEw2affMeD",
    "outputId": "a2031a69-e033-491f-f155-5819cee27759"
   },
   "outputs": [
    {
     "name": "stdout",
     "output_type": "stream",
     "text": [
      "(773, 28, 28, 3)\n",
      "(440, 28, 28, 3)\n"
     ]
    }
   ],
   "source": [
    "print(X_train.shape)\n",
    "print(X_test.shape)"
   ]
  },
  {
   "cell_type": "code",
   "execution_count": 8,
   "metadata": {
    "colab": {
     "autoexec": {
      "startup": false,
      "wait_interval": 0
     }
    },
    "colab_type": "code",
    "id": "QaZ4WR3emURo"
   },
   "outputs": [],
   "source": [
    "from sklearn.preprocessing import OneHotEncoder\n",
    "enc = OneHotEncoder()\n",
    "y_train2 = enc.fit_transform(y_train.reshape(-1, 1)).toarray()\n",
    "y_test2 = enc.transform(y_test.reshape(-1,1)).toarray()"
   ]
  },
  {
   "cell_type": "code",
   "execution_count": 9,
   "metadata": {
    "colab": {
     "autoexec": {
      "startup": false,
      "wait_interval": 0
     },
     "base_uri": "https://localhost:8080/",
     "height": 34
    },
    "colab_type": "code",
    "executionInfo": {
     "elapsed": 393,
     "status": "ok",
     "timestamp": 1526665412405,
     "user": {
      "displayName": "Kalle Bylin",
      "photoUrl": "https://lh3.googleusercontent.com/a/default-user=s128",
      "userId": "106403157380623395607"
     },
     "user_tz": 300
    },
    "id": "Ft7uqzKZmZ0P",
    "outputId": "553481cd-8f46-4cb0-ca38-a4f38a9df6ac"
   },
   "outputs": [
    {
     "data": {
      "text/plain": [
       "(773, 43)"
      ]
     },
     "execution_count": 9,
     "metadata": {},
     "output_type": "execute_result"
    }
   ],
   "source": [
    "y_train2.shape"
   ]
  },
  {
   "cell_type": "markdown",
   "metadata": {},
   "source": [
    "## Gradient-Based Learning with LeNet model\n",
    "\n",
    "**What is it?**\n",
    "\n",
    "Pattern recognition systems perform better when built relying more on automatic learning and less on hand-designed heuristics. Usually the system is divided into two partes. First a feature extractor, which transforms the input patterns so that yjey can be represented by low-dimensional vectors that can be easily compared and are relatively invariant to transformations and distortions of the input patterns that don't change their nature. Secondly, a classifier which is often general-purpose and trainable.\n",
    "\n",
    "To train this system, gradient-based learning is often used. A loss function  which compares the desired output with the predictions of the model is minimized with procedures like gradient descent. This is possible in non-linear systems with several layers of processing thanks to algorithms like back-propagation used to calculate gradients efficiently by propagation from the output to the input. \n",
    "\n",
    "\n",
    "A real-world example for logistic regression could be as a predictor for wether a patient has a disease, like diabetes, or not, based on certain characteristics of the patient like age, body mass index, sex, results tests, etc.\n",
    "\n",
    "**Strengths of the model**\n",
    "\n",
    "Multi-layer networks trained with gradient descent are capable to learn high-dimensional and non-linear mappings from large collections of examples. This makes them suitable for image recognition tasks.\n",
    "\n",
    "The LeNet model uses a specific architecture known as Convolutional Networks. This type of networks combines local receptive fields, shared weights and spatial/temporal sub-sampling to ensure a certain degree of invariance to shift, scale and distortion in the input. The local receptive fields allow the network to extract elementary visual features that are combined in following layers to detect higher-order features.\n",
    "\n",
    "Convolutional networks are particularly well suited for recognizing or rejecting shapes with widely varying size, position, and orientation.\n",
    "\n",
    "**Weaknesses of the model**\n",
    "\n",
    "This model also has it has its trade-offs and weaknesses. First of all, neural networks tend to be more computationally expensive and require large amounts of data to train. \n"
   ]
  },
  {
   "cell_type": "code",
   "execution_count": 10,
   "metadata": {
    "colab": {
     "autoexec": {
      "startup": false,
      "wait_interval": 0
     }
    },
    "colab_type": "code",
    "id": "qbYOCqLembFQ"
   },
   "outputs": [],
   "source": [
    "epochs = 10000\n",
    "lr = 0.0003\n",
    "num_classes = y_train2.shape[1]"
   ]
  },
  {
   "cell_type": "code",
   "execution_count": 11,
   "metadata": {
    "colab": {
     "autoexec": {
      "startup": false,
      "wait_interval": 0
     }
    },
    "colab_type": "code",
    "id": "qJgtRdNTmehd"
   },
   "outputs": [],
   "source": [
    "def conv_layer(input_data, input_channels, filter_size, num_filters):\n",
    "    W = tf.Variable(tf.truncated_normal(shape=[filter_size, filter_size, input_channels, num_filters], stddev=0.05))\n",
    "    b = tf.Variable(tf.constant(0.05, shape=[num_filters]))\n",
    "    \n",
    "    layer = tf.nn.conv2d(input=input_data, filter=W, strides=[1, 1, 1, 1], padding='SAME')\n",
    "    layer += b\n",
    "    \n",
    "    return layer\n",
    "\n",
    "def fully_connected(input_data, num_inputs, num_outputs):\n",
    "    W = tf.Variable(tf.truncated_normal([num_inputs, num_outputs], stddev=0.05))\n",
    "    b = tf.Variable(tf.constant(0.05, shape=[num_outputs]))\n",
    "    \n",
    "    return tf.matmul(input_data, W) + b"
   ]
  },
  {
   "cell_type": "code",
   "execution_count": 12,
   "metadata": {
    "colab": {
     "autoexec": {
      "startup": false,
      "wait_interval": 0
     }
    },
    "colab_type": "code",
    "id": "ZdKxk6lWmiYP"
   },
   "outputs": [],
   "source": [
    "#Reset tensorflow graph\n",
    "tf.reset_default_graph()"
   ]
  },
  {
   "cell_type": "code",
   "execution_count": 13,
   "metadata": {
    "colab": {
     "autoexec": {
      "startup": false,
      "wait_interval": 0
     },
     "base_uri": "https://localhost:8080/",
     "height": 34
    },
    "colab_type": "code",
    "executionInfo": {
     "elapsed": 420,
     "status": "ok",
     "timestamp": 1526665184410,
     "user": {
      "displayName": "Kalle Bylin",
      "photoUrl": "https://lh3.googleusercontent.com/a/default-user=s128",
      "userId": "106403157380623395607"
     },
     "user_tz": 300
    },
    "id": "KeJmEj_Q1uz9",
    "outputId": "eb46da8a-ce04-4a51-a165-6e5919f00a30"
   },
   "outputs": [
    {
     "data": {
      "text/plain": [
       "(28, 28, 3)"
      ]
     },
     "execution_count": 13,
     "metadata": {},
     "output_type": "execute_result"
    }
   ],
   "source": [
    "X_train[0].shape"
   ]
  },
  {
   "cell_type": "code",
   "execution_count": 14,
   "metadata": {
    "colab": {
     "autoexec": {
      "startup": false,
      "wait_interval": 0
     },
     "base_uri": "https://localhost:8080/",
     "height": 175
    },
    "colab_type": "code",
    "executionInfo": {
     "elapsed": 640,
     "status": "ok",
     "timestamp": 1526665435533,
     "user": {
      "displayName": "Kalle Bylin",
      "photoUrl": "https://lh3.googleusercontent.com/a/default-user=s128",
      "userId": "106403157380623395607"
     },
     "user_tz": 300
    },
    "id": "kLZu4T1mmjtr",
    "outputId": "887cf076-dc2a-458b-c8b3-b11e54ad25c1"
   },
   "outputs": [
    {
     "name": "stdout",
     "output_type": "stream",
     "text": [
      "Input: (?, 28, 28, 3)\n",
      "C1: (?, 28, 28, 6)\n",
      "S2: (?, 14, 14, 6)\n",
      "A1: (?, 14, 14, 6)\n",
      "C3: (?, 14, 14, 16)\n",
      "S4: (?, 7, 7, 16)\n",
      "C5: (?, 7, 7, 120)\n",
      "F6: (?, 84)\n",
      "Output: (?, 43)\n"
     ]
    }
   ],
   "source": [
    "x = tf.placeholder(tf.float32, shape=[None, 28, 28, 3], name='x_input')\n",
    "y_ = tf.placeholder(tf.float32, shape=[None, num_classes], name='y_input')\n",
    "\n",
    "print('Input:', x.get_shape())\n",
    "c1 = conv_layer(input_data=x, input_channels=3, filter_size=5, num_filters=6)\n",
    "# We choose a window_size of [1, 2, 2, 1] for a 2x2 window but 1 for batch and \n",
    "# channel dimensions because we don't want to take the maximum over multiple examples or channels\n",
    "print('C1:', c1.get_shape())\n",
    "s2 = tf.nn.pool(input=c1, window_shape=[2, 2], pooling_type='AVG', padding='SAME', strides=[2,2])\n",
    "print('S2:', s2.get_shape())\n",
    "a1 = tf.nn.relu(s2)\n",
    "print('A1:', a1.get_shape())\n",
    "\n",
    "c3 = conv_layer(input_data=a1, input_channels=6, filter_size=5, num_filters=16)\n",
    "print('C3:', c3.get_shape())\n",
    "s4 = tf.nn.pool(input=c3, window_shape=[2, 2], pooling_type='AVG', padding='SAME', strides=[2,2])\n",
    "print('S4:', s4.get_shape())\n",
    "a2 = tf.nn.relu(s4)\n",
    "\n",
    "c5 = conv_layer(input_data=a2, input_channels=16, filter_size=5, num_filters=120)\n",
    "print('C5:', c5.get_shape())\n",
    "\n",
    "num_features = c5.get_shape()[1:4].num_elements()\n",
    "flat = tf.reshape(c5, [-1, num_features])\n",
    "f6 = fully_connected(input_data=flat, num_inputs=num_features, num_outputs=84)\n",
    "print('F6:', f6.get_shape())\n",
    "a3 = tf.nn.relu(f6)\n",
    "\n",
    "output = fully_connected(input_data=a3, num_inputs=84, num_outputs=num_classes)\n",
    "print('Output:', output.get_shape())\n",
    "\n",
    "with tf.name_scope('Output'):\n",
    "    y = tf.nn.softmax(output)\n",
    "\n",
    "with tf.name_scope(\"Loss\"):\n",
    "    cost = tf.reduce_mean(tf.nn.softmax_cross_entropy_with_logits_v2(labels=y_, logits=y))\n",
    "with tf.name_scope(\"declaring_gradient_descent\"):\n",
    "    # optimizer\n",
    "    # we use gradient descent for our optimizer \n",
    "    #optimizer = tf.train.GradientDescentOptimizer(learning_rate=lr).minimize(loss)\n",
    "    optimizer = tf.train.AdamOptimizer(learning_rate=lr).minimize(cost)"
   ]
  },
  {
   "cell_type": "code",
   "execution_count": 15,
   "metadata": {
    "colab": {
     "autoexec": {
      "startup": false,
      "wait_interval": 0
     }
    },
    "colab_type": "code",
    "id": "zQYeOeOjmoXl"
   },
   "outputs": [],
   "source": [
    "with tf.name_scope('Accuracy'):\n",
    "    prediction = tf.argmax(y, 1, name='predict')\n",
    "    correct = tf.equal(prediction, tf.argmax(y_, 1))\n",
    "    accuracy = tf.reduce_mean(tf.cast(correct, tf.float32), name='accuracy')\n",
    "    \n",
    "saver = tf.train.Saver()"
   ]
  },
  {
   "cell_type": "code",
   "execution_count": 16,
   "metadata": {
    "colab": {
     "autoexec": {
      "startup": false,
      "wait_interval": 0
     }
    },
    "colab_type": "code",
    "id": "7eiXs0Nfmt0j"
   },
   "outputs": [],
   "source": [
    "loss_hist = []\n",
    "train_accs = []\n",
    "test_accs = []"
   ]
  },
  {
   "cell_type": "code",
   "execution_count": 44,
   "metadata": {
    "colab": {
     "autoexec": {
      "startup": false,
      "wait_interval": 0
     },
     "base_uri": "https://localhost:8080/",
     "height": 316
    },
    "colab_type": "code",
    "executionInfo": {
     "elapsed": 572112,
     "status": "ok",
     "timestamp": 1526666375528,
     "user": {
      "displayName": "Kalle Bylin",
      "photoUrl": "https://lh3.googleusercontent.com/a/default-user=s128",
      "userId": "106403157380623395607"
     },
     "user_tz": 300
    },
    "id": "knzW0xEZmqoV",
    "outputId": "1599ff8c-aa53-4c79-88c1-b116ddcb5e54"
   },
   "outputs": [
    {
     "name": "stdout",
     "output_type": "stream",
     "text": [
      "Epoch 0\n",
      "Training accuracy: 0.045738045\n",
      "Test accuracy: 0.035856575\n",
      "Epoch 2000\n",
      "Training accuracy: 0.62785864\n",
      "Test accuracy: 0.58964145\n",
      "Epoch 4000\n",
      "Training accuracy: 0.6902287\n",
      "Test accuracy: 0.64143425\n",
      "Epoch 6000\n",
      "Training accuracy: 0.77858627\n",
      "Test accuracy: 0.7171315\n",
      "Epoch 8000\n",
      "Training accuracy: 0.80457383\n",
      "Test accuracy: 0.76494026\n",
      "Training finished\n",
      "Accuracy: 0.8366534\n"
     ]
    }
   ],
   "source": [
    "with tf.Session() as sess:\n",
    "    sess.run(tf.global_variables_initializer())\n",
    "    \n",
    "    for epoch in range(epochs):\n",
    "    \n",
    "        _, loss = sess.run([optimizer, cost], feed_dict = {x: X_train, y_: y_train2})\n",
    "        \n",
    "        acc = sess.run(accuracy, feed_dict = {x: X_train, y_: y_train2})\n",
    "        test_acc = sess.run(accuracy, feed_dict = {x: X_test, y_: y_test2})\n",
    "        \n",
    "        loss_hist.append(loss)\n",
    "        train_accs.append(acc)\n",
    "        test_accs.append(test_acc)\n",
    "        \n",
    "        if epoch % 2000 == 0:\n",
    "            print('Epoch', epoch)\n",
    "            print('Training accuracy:', acc)\n",
    "            print('Test accuracy:', test_acc)\n",
    "    print('Training finished')\n",
    "    \n",
    "    correct_prediction = tf.equal(tf.argmax(y, 1), tf.argmax(y_, 1))\n",
    "    accuracy = tf.reduce_mean(tf.cast(correct_prediction, tf.float32))\n",
    "    print('Accuracy:', accuracy.eval({x: X_test, y_: y_test2}))\n",
    "    \n",
    "    saver.save(sess, './model3')"
   ]
  },
  {
   "cell_type": "code",
   "execution_count": 0,
   "metadata": {
    "colab": {
     "autoexec": {
      "startup": false,
      "wait_interval": 0
     }
    },
    "colab_type": "code",
    "id": "ParNtJCuSj6I"
   },
   "outputs": [],
   "source": []
  }
 ],
 "metadata": {
  "accelerator": "GPU",
  "colab": {
   "default_view": {},
   "name": "Copy of model3.ipynb",
   "provenance": [],
   "version": "0.3.2",
   "views": {}
  },
  "kernelspec": {
   "display_name": "Python 3",
   "language": "python",
   "name": "python3"
  },
  "language_info": {
   "codemirror_mode": {
    "name": "ipython",
    "version": 3
   },
   "file_extension": ".py",
   "mimetype": "text/x-python",
   "name": "python",
   "nbconvert_exporter": "python",
   "pygments_lexer": "ipython3",
   "version": "3.6.5"
  }
 },
 "nbformat": 4,
 "nbformat_minor": 1
}
