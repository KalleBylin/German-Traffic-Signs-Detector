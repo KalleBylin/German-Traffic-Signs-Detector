{
 "cells": [
  {
   "cell_type": "code",
   "execution_count": 8,
   "metadata": {},
   "outputs": [],
   "source": [
    "import os\n",
    "import numpy as np\n",
    "import matplotlib.pyplot as plt\n",
    "from PIL import Image, ImageOps\n",
    "import glob\n",
    "\n",
    "%matplotlib inline"
   ]
  },
  {
   "cell_type": "code",
   "execution_count": 40,
   "metadata": {},
   "outputs": [
    {
     "name": "stdout",
     "output_type": "stream",
     "text": [
      "Done\n"
     ]
    }
   ],
   "source": [
    "def load_img(path, size):\n",
    "    img = Image.open(path)\n",
    "    old_size = img.size\n",
    "\n",
    "    ratio = float(size/max(old_size))\n",
    "    new_size = tuple([int(x*ratio) for x in old_size])\n",
    "\n",
    "    img = img.resize(new_size, Image.ANTIALIAS)\n",
    "    delta_w = size - new_size[0]\n",
    "    delta_h = size - new_size[1]\n",
    "    padding = (delta_w//2, delta_h//2, delta_w-(delta_w//2), delta_h-(delta_h//2))\n",
    "    img = ImageOps.expand(img, padding)\n",
    "    return np.array(img)\n",
    "    \n",
    "X_train = []\n",
    "y_train = []\n",
    "X_test = []\n",
    "y_test = []\n",
    "\n",
    "size = 28\n",
    "\n",
    "for j in range(43):\n",
    "    train_path = os.path.join('../images', 'train', str(j).rjust(2, '0'), '*.ppm')\n",
    "    files = glob.glob(train_path)\n",
    "    for file in files:\n",
    "        X_train.append(load_img(file, size))\n",
    "        y_train.append(j)\n",
    "        \n",
    "    test_path = os.path.join('../images', 'test', str(j).rjust(2, '0'), '*.ppm')\n",
    "    files = glob.glob(test_path)\n",
    "    for file in files:\n",
    "        X_test.append(load_img(file, size))\n",
    "        y_test.append(j)\n",
    "\n",
    "X_train = np.array(X_train, dtype=np.float32)\n",
    "y_train = np.array(y_train, dtype=np.float32)\n",
    "X_test = np.array(X_test, dtype=np.float32)\n",
    "y_test = np.array(y_test, dtype=np.float32)\n",
    "\n",
    "print('Done')"
   ]
  },
  {
   "cell_type": "code",
   "execution_count": 4,
   "metadata": {},
   "outputs": [
    {
     "data": {
      "text/plain": [
       "<matplotlib.image.AxesImage at 0x28b58abf8d0>"
      ]
     },
     "execution_count": 4,
     "metadata": {},
     "output_type": "execute_result"
    },
    {
     "data": {
      "image/png": "[encoded data removed]",
      "text/plain": [
       "<Figure size 432x288 with 1 Axes>"
      ]
     },
     "metadata": {},
     "output_type": "display_data"
    }
   ],
   "source": [
    "img = Image.open('../../images/train/00/00000.ppm')\n",
    "plt.imshow(img)"
   ]
  },
  {
   "cell_type": "markdown",
   "metadata": {},
   "source": [
    "## Logistic regression\n",
    "\n",
    "**What is it?**\n",
    "\n",
    "Logistic regression is a classification algorithm often used for predictive analysis and tries to explain the relationship between one dependent binary variable and one or more independent variables. A short explanation posted on Analytics Vidhya is that \"it predicts the probability of ocurrence of an event by fitting data to a logit function\".\n",
    "\n",
    "A real-world example for logistic regression could be as a predictor for wether a patient has a disease, like diabetes, or not, based on certain characteristics of the patient like age, body mass index, sex, results tests, etc.\n",
    "\n",
    "**Strengths of the model**\n",
    "\n",
    "Logistic regression does not make some of the key assumptions of linear regression and general linear models in terms of, for example, linearity, normality, homoscedasticity, and measurement level. It works with relationships that are not linear because it applies a non-linear log transformation to the predicted odds ratio. It is also popular because its results are relatively easy to interpret. The estimated regression coefficients can be back-transformed off of a log scale to interpret the conditional effects of each feature.\n",
    "\n",
    "**Weaknesses of the model**\n",
    "\n",
    "Still, as every model, it has its trade-offs and weaknesses. Logistic regression is a classification model for discrete, binary problems. In order to predecit multiple classes a scheme like one-vs-rest (OvR) has to be used. High correlation variables and outliers can make the model perform poorly. It sometimes needs large datasets because maximum likelihood estimates are less powerful than the ordinary least squares used for linear regression.\n",
    "\n",
    "(Sources: http://scikit-learn.org/stable/modules/generated/sklearn.linear_model.LogisticRegression.html, http://www.statisticssolutions.com/what-is-logistic-regression/, http://www.statisticssolutions.com/what-is-logistic-regression, http://www.statisticssolutions.com/assumptions-of-logistic-regression/)"
   ]
  },
  {
   "cell_type": "code",
   "execution_count": 46,
   "metadata": {},
   "outputs": [
    {
     "data": {
      "text/plain": [
       "2352"
      ]
     },
     "execution_count": 46,
     "metadata": {},
     "output_type": "execute_result"
    }
   ],
   "source": [
    "X_train.shape[1]*X_train.shape[2]*X_train.shape[3]"
   ]
  },
  {
   "cell_type": "code",
   "execution_count": 47,
   "metadata": {},
   "outputs": [
    {
     "data": {
      "text/plain": [
       "(972, 2352)"
      ]
     },
     "execution_count": 47,
     "metadata": {},
     "output_type": "execute_result"
    }
   ],
   "source": [
    "X_train2 = X_train.flatten().reshape(X_train.shape[0], X_train.shape[1]*X_train.shape[2]*X_train.shape[3])\n",
    "X_train2.shape"
   ]
  },
  {
   "cell_type": "code",
   "execution_count": 48,
   "metadata": {},
   "outputs": [
    {
     "name": "stderr",
     "output_type": "stream",
     "text": [
      "C:\\Users\\Kalle\\Anaconda3\\envs\\german\\lib\\site-packages\\sklearn\\model_selection\\_split.py:605: Warning: The least populated class in y has only 1 members, which is too few. The minimum number of members in any class cannot be less than n_splits=5.\n",
      "  % (min_groups, self.n_splits)), Warning)\n"
     ]
    },
    {
     "name": "stdout",
     "output_type": "stream",
     "text": [
      "Score: 0.7877358490566038\n",
      "Score: 0.8316831683168316\n",
      "Score: 0.7801047120418848\n",
      "Score: 0.8279569892473119\n",
      "Score: 0.8453038674033149\n",
      "Overall score: 0.8145569172131892\n"
     ]
    }
   ],
   "source": [
    "from sklearn.metrics import accuracy_score\n",
    "from sklearn.linear_model import LogisticRegression\n",
    "from sklearn.model_selection import StratifiedKFold\n",
    "\n",
    "## 5 Fold CV\n",
    "k = 5\n",
    "cv = StratifiedKFold(n_splits=k, random_state=25, shuffle=True)\n",
    "scores = []\n",
    "\n",
    "for train_idx, test_idx in cv.split(X_train2, y_train):\n",
    "    train_x = X_train2[train_idx]\n",
    "    test_x = X_train2[test_idx]\n",
    "    \n",
    "    train_y = y_train[train_idx]\n",
    "    test_y = y_train[test_idx]\n",
    "    \n",
    "    log_model = LogisticRegression(random_state=50, solver='lbfgs')\n",
    "    log_model.fit(train_x, train_y)\n",
    "    score = log_model.score(test_x, test_y)\n",
    "    scores.append(score)\n",
    "    print('Score:', score)\n",
    "\n",
    "print('Overall score:', sum(scores)/k)"
   ]
  },
  {
   "cell_type": "code",
   "execution_count": 55,
   "metadata": {},
   "outputs": [
    {
     "data": {
      "text/plain": [
       "(972, 28, 28, 3)"
      ]
     },
     "execution_count": 55,
     "metadata": {},
     "output_type": "execute_result"
    }
   ],
   "source": [
    "X_train.shape"
   ]
  },
  {
   "cell_type": "code",
   "execution_count": null,
   "metadata": {},
   "outputs": [],
   "source": [
    "X_test2 = X_test.flatten().reshape(X_test.shape[0], X_test.shape[1]*X_test.shape[2]*X_test.shape[3])\n",
    "X_test2.shape"
   ]
  },
  {
   "cell_type": "code",
   "execution_count": 87,
   "metadata": {},
   "outputs": [
    {
     "name": "stdout",
     "output_type": "stream",
     "text": [
      "Test accuracy: 0.801\n"
     ]
    }
   ],
   "source": [
    "print('Test accuracy:', round(log_model.score(X_test2, y_test),3))"
   ]
  },
  {
   "cell_type": "code",
   "execution_count": 83,
   "metadata": {
    "scrolled": false
   },
   "outputs": [
    {
     "data": {
      "image/png": "[encoded data removed]",
      "text/plain": [
       "<Figure size 432x288 with 1 Axes>"
      ]
     },
     "metadata": {},
     "output_type": "display_data"
    },
    {
     "name": "stdout",
     "output_type": "stream",
     "text": [
      "True class: 38\n",
      "Predicted class: [38.]\n"
     ]
    },
    {
     "data": {
      "image/png": "[encoded data removed]",
      "text/plain": [
       "<Figure size 432x288 with 1 Axes>"
      ]
     },
     "metadata": {},
     "output_type": "display_data"
    },
    {
     "name": "stdout",
     "output_type": "stream",
     "text": [
      "True class: 08\n",
      "Predicted class: [8.]\n"
     ]
    },
    {
     "data": {
      "image/png": "[encoded data removed]",
      "text/plain": [
       "<Figure size 432x288 with 1 Axes>"
      ]
     },
     "metadata": {},
     "output_type": "display_data"
    },
    {
     "name": "stdout",
     "output_type": "stream",
     "text": [
      "True class: 06\n",
      "Predicted class: [6.]\n"
     ]
    },
    {
     "data": {
      "image/png": "[encoded data removed]",
      "text/plain": [
       "<Figure size 432x288 with 1 Axes>"
      ]
     },
     "metadata": {},
     "output_type": "display_data"
    },
    {
     "name": "stdout",
     "output_type": "stream",
     "text": [
      "True class: 35\n",
      "Predicted class: [35.]\n"
     ]
    },
    {
     "data": {
      "image/png": "[encoded data removed]",
      "text/plain": [
       "<Figure size 432x288 with 1 Axes>"
      ]
     },
     "metadata": {},
     "output_type": "display_data"
    },
    {
     "name": "stdout",
     "output_type": "stream",
     "text": [
      "True class: 12\n",
      "Predicted class: [2.]\n"
     ]
    },
    {
     "data": {
      "image/png": "[encoded data removed]",
      "text/plain": [
       "<Figure size 432x288 with 1 Axes>"
      ]
     },
     "metadata": {},
     "output_type": "display_data"
    },
    {
     "name": "stdout",
     "output_type": "stream",
     "text": [
      "True class: 17\n",
      "Predicted class: [13.]\n"
     ]
    }
   ],
   "source": [
    "files = glob.glob(os.path.join('../images', 'test', '*', '*.ppm'))\n",
    "test_idxs = np.random.choice(len(files), 6,replace=False)\n",
    "\n",
    "for i in test_idxs:\n",
    "    img = load_img(files[i], 28)\n",
    "    \n",
    "    plt.imshow(img)\n",
    "    plt.show()\n",
    "    img = img.flatten().reshape(1, X_test2.shape[1])\n",
    "    print('True class:', files[i].split('\\\\')[2])\n",
    "    print('Predicted class:',log_model.predict(img))"
   ]
  },
  {
   "cell_type": "code",
   "execution_count": 25,
   "metadata": {},
   "outputs": [],
   "source": [
    "import pickle"
   ]
  },
  {
   "cell_type": "code",
   "execution_count": 26,
   "metadata": {},
   "outputs": [],
   "source": [
    "pickle.dump(log_model, open('saved/model1.sav', 'wb'))"
   ]
  }
 ],
 "metadata": {
  "kernelspec": {
   "display_name": "Python 3",
   "language": "python",
   "name": "python3"
  },
  "language_info": {
   "codemirror_mode": {
    "name": "ipython",
    "version": 3
   },
   "file_extension": ".py",
   "mimetype": "text/x-python",
   "name": "python",
   "nbconvert_exporter": "python",
   "pygments_lexer": "ipython3",
   "version": "3.6.5"
  }
 },
 "nbformat": 4,
 "nbformat_minor": 2
}
