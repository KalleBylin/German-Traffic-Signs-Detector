{
 "cells": [
  {
   "cell_type": "code",
   "execution_count": 91,
   "metadata": {},
   "outputs": [],
   "source": [
    "import os\n",
    "import numpy as np\n",
    "import matplotlib.pyplot as plt\n",
    "from PIL import Image, ImageOps\n",
    "import glob\n",
    "import tensorflow as tf\n",
    "\n",
    "%matplotlib inline"
   ]
  },
  {
   "cell_type": "code",
   "execution_count": 39,
   "metadata": {},
   "outputs": [],
   "source": [
    "source1 = \"images/train/\"\n",
    "dest11 = \"images/test/\"\n",
    "folders = os.listdir(source1)\n",
    "import shutil\n",
    "for folder in folders:\n",
    "    if not os.path.exists(dest11 + folder):\n",
    "        os.makedirs(dest11 + folder)\n",
    "    files = os.listdir(source1+folder)\n",
    "    for file in files:\n",
    "        if np.random.rand(1) < 0.2:\n",
    "            shutil.move(source1 + folder + '/' + file, dest11 + folder + '/'+ file)"
   ]
  },
  {
   "cell_type": "code",
   "execution_count": 92,
   "metadata": {},
   "outputs": [
    {
     "name": "stdout",
     "output_type": "stream",
     "text": [
      "Done\n"
     ]
    }
   ],
   "source": [
    "def load_img(path, size):\n",
    "    img = Image.open(path)\n",
    "    old_size = img.size\n",
    "\n",
    "    ratio = float(size/max(old_size))\n",
    "    new_size = tuple([int(x*ratio) for x in old_size])\n",
    "\n",
    "    img = img.resize(new_size, Image.ANTIALIAS)\n",
    "    delta_w = size - new_size[0]\n",
    "    delta_h = size - new_size[1]\n",
    "    padding = (delta_w//2, delta_h//2, delta_w-(delta_w//2), delta_h-(delta_h//2))\n",
    "    img = ImageOps.expand(img, padding)\n",
    "    return np.array(img)\n",
    "    \n",
    "X_train = []\n",
    "y_train = []\n",
    "X_test = []\n",
    "y_test = []\n",
    "\n",
    "size = 28\n",
    "\n",
    "for j in range(43):\n",
    "    train_path = os.path.join('images', 'train', str(j).rjust(2, '0'), '*.ppm')\n",
    "    files = glob.glob(train_path)\n",
    "    for file in files:\n",
    "        X_train.append(load_img(file, size))\n",
    "        y_train.append(j)\n",
    "        \n",
    "    test_path = os.path.join('images', 'test', str(j).rjust(2, '0'), '*.ppm')\n",
    "    files = glob.glob(test_path)\n",
    "    for file in files:\n",
    "        X_test.append(load_img(file, size))\n",
    "        y_test.append(j)\n",
    "\n",
    "X_train = np.array(X_train, dtype=np.float32)\n",
    "y_train = np.array(y_train, dtype=np.float32)\n",
    "X_test = np.array(X_test, dtype=np.float32)\n",
    "y_test = np.array(y_test, dtype=np.float32)\n",
    "\n",
    "print('Done')"
   ]
  },
  {
   "cell_type": "code",
   "execution_count": 93,
   "metadata": {},
   "outputs": [
    {
     "data": {
      "text/plain": [
       "<matplotlib.image.AxesImage at 0x19d5b1a6c18>"
      ]
     },
     "execution_count": 93,
     "metadata": {},
     "output_type": "execute_result"
    },
    {
     "data": {
      "image/png": "[encoded data removed]",
      "text/plain": [
       "<Figure size 432x288 with 1 Axes>"
      ]
     },
     "metadata": {},
     "output_type": "display_data"
    }
   ],
   "source": [
    "img = Image.open('images/train/00/00001.ppm')\n",
    "plt.imshow(img)"
   ]
  },
  {
   "cell_type": "code",
   "execution_count": 94,
   "metadata": {},
   "outputs": [
    {
     "data": {
      "text/plain": [
       "<matplotlib.image.AxesImage at 0x19d5b0f9630>"
      ]
     },
     "execution_count": 94,
     "metadata": {},
     "output_type": "execute_result"
    },
    {
     "data": {
      "image/png": "[encoded data removed]",
      "text/plain": [
       "<Figure size 432x288 with 1 Axes>"
      ]
     },
     "metadata": {},
     "output_type": "display_data"
    }
   ],
   "source": [
    "img = Image.open('images/test/00/00000.ppm')\n",
    "plt.imshow(img)"
   ]
  },
  {
   "cell_type": "markdown",
   "metadata": {},
   "source": [
    "## Gradient-Based Learning with LeNet model\n",
    "\n",
    "**What is it?**\n",
    "\n",
    "Pattern recognition systems perform better when built relying more on automatic learning and less on hand-designed heuristics. Usually the system is divided into two partes. First a feature extractor, which transforms the input patterns so that yjey can be represented by low-dimensional vectors that can be easily compared and are relatively invariant to transformations and distortions of the input patterns that don't change their nature. Secondly, a classifier which is often general-purpose and trainable.\n",
    "\n",
    "To train this system, gradient-based learning is often used. A loss function  which compares the desired output with the predictions of the model is minimized with procedures like gradient descent. This is possible in non-linear systems with several layers of processing thanks to algorithms like back-propagation used to calculate gradients efficiently by propagation from the output to the input. \n",
    "\n",
    "\n",
    "A real-world example for logistic regression could be as a predictor for wether a patient has a disease, like diabetes, or not, based on certain characteristics of the patient like age, body mass index, sex, results tests, etc.\n",
    "\n",
    "**Strengths of the model**\n",
    "\n",
    "Multi-layer networks trained with gradient descent are capable to learn high-dimensional and non-linear mappings from large collections of examples. This makes them suitable for image recognition tasks.\n",
    "\n",
    "The LeNet model uses a specific architecture known as Convolutional Networks. This type of netowrks combines local receptive fields, shared weights and spatial/temporal sub-sampling to ensure a certain degree of invariance to shift, scale and distortion in the input. The local receptive fields allow the network to extract elementary visual features that are combined in following layers to detect higher-order features.\n",
    "\n",
    "Convolutional networks are particularly well suited for recognizing or rejecting shapes with widely varying size, position, and orientation.\n",
    "\n",
    "**Weaknesses of the model**\n",
    "\n",
    "Still, as every model, it has its trade-offs and weaknesses. Logistic regression is a classification model for discrete, binary problems. In order to predecit multiple classes a scheme like one-vs-rest (OvR) has to be used. High correlation variables and outliers can make the model perform poorly. It sometimes needs large datasets because maximum likelihood estimates are less powerful than the ordinary least squares used for linear regression.\n",
    "\n",
    "**Fit for this problem**\n",
    "\n",
    "Logistic regression works well when there is a single decision boundary, which can be beneficial in a problem with binary labels like this one. With a little over 46.694 records in the training example it seems like the dataset is large enough for the model. Some statisticians recommend at least 10-30 cases for each parameter to be estimated (source: http://www.statisticssolutions.com/assumptions-of-logistic-regression).\n",
    "\n",
    "(Sources: http://scikit-learn.org/stable/modules/generated/sklearn.linear_model.LogisticRegression.html, http://www.statisticssolutions.com/what-is-logistic-regression/, http://www.statisticssolutions.com/what-is-logistic-regression, http://www.statisticssolutions.com/assumptions-of-logistic-regression/)"
   ]
  },
  {
   "cell_type": "code",
   "execution_count": 95,
   "metadata": {},
   "outputs": [
    {
     "data": {
      "text/plain": [
       "(972, 28, 28, 3)"
      ]
     },
     "execution_count": 95,
     "metadata": {},
     "output_type": "execute_result"
    }
   ],
   "source": [
    "X_train.shape"
   ]
  },
  {
   "cell_type": "code",
   "execution_count": 96,
   "metadata": {},
   "outputs": [
    {
     "data": {
      "text/plain": [
       "(972, 2352)"
      ]
     },
     "execution_count": 96,
     "metadata": {},
     "output_type": "execute_result"
    }
   ],
   "source": [
    "X_train2 = X_train.flatten().reshape(X_train.shape[0], size*size*3)\n",
    "X_train2.shape"
   ]
  },
  {
   "cell_type": "code",
   "execution_count": 97,
   "metadata": {},
   "outputs": [
    {
     "data": {
      "text/plain": [
       "(241, 2352)"
      ]
     },
     "execution_count": 97,
     "metadata": {},
     "output_type": "execute_result"
    }
   ],
   "source": [
    "X_test2 = X_test.flatten().reshape(X_test.shape[0], size*size*3)\n",
    "X_test2.shape"
   ]
  },
  {
   "cell_type": "code",
   "execution_count": 98,
   "metadata": {},
   "outputs": [],
   "source": [
    "from sklearn.preprocessing import OneHotEncoder\n",
    "enc = OneHotEncoder()\n",
    "y_train2 = enc.fit_transform(y_train.reshape(-1, 1)).toarray()\n",
    "y_test2 = enc.transform(y_test.reshape(-1,1)).toarray()"
   ]
  },
  {
   "cell_type": "code",
   "execution_count": 99,
   "metadata": {},
   "outputs": [
    {
     "data": {
      "text/plain": [
       "(972, 43)"
      ]
     },
     "execution_count": 99,
     "metadata": {},
     "output_type": "execute_result"
    }
   ],
   "source": [
    "y_train2.shape"
   ]
  },
  {
   "cell_type": "code",
   "execution_count": 100,
   "metadata": {},
   "outputs": [],
   "source": [
    "epochs = 100\n",
    "lr = 0.0003\n",
    "num_input = X_train2.shape[1]\n",
    "num_classes = y_train2.shape[1]\n",
    "logs_path='/tmp'"
   ]
  },
  {
   "cell_type": "markdown",
   "metadata": {},
   "source": [
    "The LeNet-5 architecture is described as follows:\n",
    "- Layer C1: Convolutional layer with 6 feature maps. Each unit in each feature map is connected to a 5x5 neighborhood in the input. \n",
    "- Layer S2: Sub-sampling layer with 6 feature maps of size 14x14. Each unit in the feature map is connected to a 2x2 neighborhood in the corresponding feature map in C1. The four inputs to a unit in S2 are added, then multiplied by a trainable coefficient, and added to a trainable bias. The result is passed through a sigmoidal function. \n",
    "- Layer C3: Convolutional layer with 16 feature maps. Each unit in each feature map is connected to several 5x5 neighborhoods at identical locations in a subset of S2's feature maps.\n",
    "- Layer S4: Sub-sampling layer with 16 feature maps of size 5x5. Each unit in each feature map is connected to a 2x2 neighborhood in the corresponding feature map in C3.\n",
    "- Layer C5: Convolutional layer with 120 feature maps. Each unit connected to a 5x5 neighborhood on all 16 of S4's feature maps. The size of C5's feature maps is 1x1. This amounts to a full connection between S4 and C5.\n",
    "- Layer F6: Fully connected layer with 84 units.\n",
    "- Output: Output units according to number of classes\n",
    "\n",
    "Units in layers up to F6 compute a dot product between their input vector and their weight vector, to which a bias is added. This weighted sum is then passed through a sigmoid squashing function. \n",
    "\n",
    "`tf.nn.conv2d` performs a 2D convolution with input and filter tensors:\n",
    "- An input tensor of shape [batch, in_height, in_width, in_channels]\n",
    "- A filter/kernel tensor of shape [filter_height, filter_width, in_channels, out_channels]\n",
    "\n",
    "The sub-sampling layers described in the [Gradient-Based Learning Applied to Document Recognition](http://yann.lecun.com/exdb/publis/pdf/lecun-01a.pdf) paper compute the average of its inputs. \n",
    "\n",
    "`tf.nn.pool` performs a N-D pooling operation and takes a pooling_type parameter which can be specified as 'AVG' or 'MAX'."
   ]
  },
  {
   "cell_type": "code",
   "execution_count": 101,
   "metadata": {},
   "outputs": [],
   "source": [
    "def conv_layer(input_data, input_channels, filter_size, num_filters):\n",
    "    W = tf.Variable(tf.truncated_normal(shape=[filter_size, filter_size, input_channels, num_filters], stddev=0.05))\n",
    "    b = tf.Variable(tf.constant(0.05, shape=[num_filters]))\n",
    "    \n",
    "    layer = tf.nn.conv2d(input=input_data, filter=W, strides=[1, 1, 1, 1], padding='SAME')\n",
    "    layer += b\n",
    "    \n",
    "    return layer\n",
    "\n",
    "def fully_connected(input_data, num_inputs, num_outputs):\n",
    "    W = tf.Variable(tf.truncated_normal([num_inputs, num_outputs], stddev=0.05))\n",
    "    b = tf.Variable(tf.constant(0.05, shape=[num_outputs]))\n",
    "    \n",
    "    return tf.matmul(input_data, W) + b"
   ]
  },
  {
   "cell_type": "code",
   "execution_count": 102,
   "metadata": {},
   "outputs": [],
   "source": [
    "#Reset tensorflow graph\n",
    "tf.reset_default_graph()"
   ]
  },
  {
   "cell_type": "code",
   "execution_count": 103,
   "metadata": {},
   "outputs": [
    {
     "name": "stdout",
     "output_type": "stream",
     "text": [
      "Input: (?, 28, 28, 3)\n",
      "C1: (?, 28, 28, 6)\n",
      "S2: (?, 14, 14, 6)\n",
      "A1: (?, 14, 14, 6)\n",
      "C3: (?, 14, 14, 16)\n",
      "S4: (?, 7, 7, 16)\n",
      "(?, 7, 7, 16)\n",
      "C5: (?, 7, 7, 120)\n",
      "F6: (?, 84)\n",
      "Output: (?, 43)\n"
     ]
    }
   ],
   "source": [
    "x = tf.placeholder(tf.float32, shape=[None, 28, 28, 3], name='x_input')\n",
    "y_ = tf.placeholder(tf.float32, shape=[None, num_classes], name='y_input')\n",
    "\n",
    "print('Input:', x.get_shape())\n",
    "c1 = conv_layer(input_data=x, input_channels=3, filter_size=5, num_filters=6)\n",
    "# We choose a window_size of [1, 2, 2, 1] for a 2x2 window but 1 for batch and \n",
    "# channel dimensions because we don't want to take the maximum over multiple examples or channels\n",
    "print('C1:', c1.get_shape())\n",
    "s2 = tf.nn.pool(input=c1, window_shape=[2, 2], pooling_type='AVG', padding='SAME', strides=[2,2])\n",
    "print('S2:', s2.get_shape())\n",
    "a1 = tf.nn.relu(s2)\n",
    "print('A1:', a1.get_shape())\n",
    "\n",
    "c3 = conv_layer(input_data=a1, input_channels=6, filter_size=5, num_filters=16)\n",
    "print('C3:', c3.get_shape())\n",
    "s4 = tf.nn.pool(input=c3, window_shape=[2, 2], pooling_type='AVG', padding='SAME', strides=[2,2])\n",
    "print('S4:', s4.get_shape())\n",
    "a2 = tf.nn.relu(s4)\n",
    "print(a2.get_shape())\n",
    "\n",
    "c5 = conv_layer(input_data=a2, input_channels=16, filter_size=5, num_filters=120)\n",
    "print('C5:', c5.get_shape())\n",
    "\n",
    "num_features = c5.get_shape()[1:4].num_elements()\n",
    "flat = tf.reshape(c5, [-1, num_features])\n",
    "f6 = fully_connected(input_data=flat, num_inputs=num_features, num_outputs=84)\n",
    "print('F6:', f6.get_shape())\n",
    "a3 = tf.nn.relu(f6)\n",
    "\n",
    "output = fully_connected(input_data=a3, num_inputs=84, num_outputs=num_classes)\n",
    "print('Output:', output.get_shape())\n",
    "\n",
    "with tf.name_scope('Output'):\n",
    "    y = tf.nn.softmax(output)\n",
    "\n",
    "with tf.name_scope(\"calculating_cost\"):\n",
    "    # calculating cost\n",
    "    loss = tf.reduce_mean(tf.nn.softmax_cross_entropy_with_logits_v2(labels=y_, logits=y))\n",
    "with tf.name_scope(\"declaring_gradient_descent\"):\n",
    "    # optimizer\n",
    "    # we use gradient descent for our optimizer \n",
    "    #optimizer = tf.train.GradientDescentOptimizer(learning_rate=lr).minimize(loss)\n",
    "    optimizer = tf.train.AdamOptimizer(learning_rate=1e-4).minimize(loss)"
   ]
  },
  {
   "cell_type": "code",
   "execution_count": 104,
   "metadata": {},
   "outputs": [],
   "source": [
    "with tf.name_scope('Accuracy'):\n",
    "    prediction = tf.argmax(y, 1, name='predict')\n",
    "    correct = tf.equal(prediction, tf.argmax(y_, 1))\n",
    "    accuracy = tf.reduce_mean(tf.cast(correct, tf.float32), name='accuracy')"
   ]
  },
  {
   "cell_type": "code",
   "execution_count": 105,
   "metadata": {},
   "outputs": [
    {
     "ename": "TypeError",
     "evalue": "randint() takes at least 1 positional argument (0 given)",
     "output_type": "error",
     "traceback": [
      "\u001b[1;31m---------------------------------------------------------------------------\u001b[0m",
      "\u001b[1;31mTypeError\u001b[0m                                 Traceback (most recent call last)",
      "\u001b[1;32m<ipython-input-105-6fee42979b87>\u001b[0m in \u001b[0;36m<module>\u001b[1;34m()\u001b[0m\n\u001b[0;32m      1\u001b[0m \u001b[0msaver\u001b[0m \u001b[1;33m=\u001b[0m \u001b[0mtf\u001b[0m\u001b[1;33m.\u001b[0m\u001b[0mtrain\u001b[0m\u001b[1;33m.\u001b[0m\u001b[0mSaver\u001b[0m\u001b[1;33m(\u001b[0m\u001b[1;33m)\u001b[0m\u001b[1;33m\u001b[0m\u001b[0m\n\u001b[1;32m----> 2\u001b[1;33m \u001b[0mnp\u001b[0m\u001b[1;33m.\u001b[0m\u001b[0mrandom\u001b[0m\u001b[1;33m.\u001b[0m\u001b[0mrandint\u001b[0m\u001b[1;33m(\u001b[0m\u001b[1;33m)\u001b[0m\u001b[1;33m\u001b[0m\u001b[0m\n\u001b[0m",
      "\u001b[1;32mmtrand.pyx\u001b[0m in \u001b[0;36mmtrand.RandomState.randint\u001b[1;34m()\u001b[0m\n",
      "\u001b[1;31mTypeError\u001b[0m: randint() takes at least 1 positional argument (0 given)"
     ]
    }
   ],
   "source": [
    "saver = tf.train.Saver()\n"
   ]
  },
  {
   "cell_type": "code",
   "execution_count": 106,
   "metadata": {},
   "outputs": [
    {
     "name": "stdout",
     "output_type": "stream",
     "text": [
      "Epoch 0\n",
      "Training accuracy: 0.04526749\n",
      "Test accuracy: 0.041493777\n",
      "Epoch 5\n",
      "Training accuracy: 0.047325104\n",
      "Test accuracy: 0.045643155\n",
      "Epoch 10\n",
      "Training accuracy: 0.047325104\n",
      "Test accuracy: 0.045643155\n",
      "Epoch 15\n",
      "Training accuracy: 0.047325104\n",
      "Test accuracy: 0.045643155\n",
      "Epoch 20\n",
      "Training accuracy: 0.047325104\n",
      "Test accuracy: 0.045643155\n",
      "Epoch 25\n",
      "Training accuracy: 0.047325104\n",
      "Test accuracy: 0.045643155\n",
      "Epoch 30\n",
      "Training accuracy: 0.047325104\n",
      "Test accuracy: 0.045643155\n",
      "Epoch 35\n",
      "Training accuracy: 0.047325104\n",
      "Test accuracy: 0.045643155\n",
      "Epoch 40\n",
      "Training accuracy: 0.047325104\n",
      "Test accuracy: 0.045643155\n",
      "Epoch 45\n",
      "Training accuracy: 0.047325104\n",
      "Test accuracy: 0.045643155\n",
      "Epoch 50\n",
      "Training accuracy: 0.047325104\n",
      "Test accuracy: 0.045643155\n",
      "Epoch 55\n",
      "Training accuracy: 0.047325104\n",
      "Test accuracy: 0.045643155\n",
      "Epoch 60\n",
      "Training accuracy: 0.047325104\n",
      "Test accuracy: 0.045643155\n",
      "Epoch 65\n",
      "Training accuracy: 0.047325104\n",
      "Test accuracy: 0.045643155\n",
      "Epoch 70\n",
      "Training accuracy: 0.047325104\n",
      "Test accuracy: 0.045643155\n",
      "Epoch 75\n",
      "Training accuracy: 0.047325104\n",
      "Test accuracy: 0.045643155\n",
      "Epoch 80\n",
      "Training accuracy: 0.047325104\n",
      "Test accuracy: 0.045643155\n",
      "Epoch 85\n",
      "Training accuracy: 0.047325104\n",
      "Test accuracy: 0.045643155\n",
      "Epoch 90\n",
      "Training accuracy: 0.047325104\n",
      "Test accuracy: 0.045643155\n",
      "Epoch 95\n",
      "Training accuracy: 0.047325104\n",
      "Test accuracy: 0.045643155\n",
      "Training finished\n",
      "Accuracy: 0.045643155\n"
     ]
    }
   ],
   "source": [
    "with tf.Session() as sess:\n",
    "    sess.run(tf.global_variables_initializer())\n",
    "    \n",
    "    for epoch in range(epochs):\n",
    "    \n",
    "        sess.run([optimizer, loss], feed_dict = {x: X_train, y_: y_train2})\n",
    "        \n",
    "        acc = sess.run(accuracy, feed_dict = {x: X_train, y_: y_train2})\n",
    "        test_acc = sess.run(accuracy, feed_dict = {x: X_test, y_: y_test2})\n",
    "        \n",
    "        if epoch % 5 == 0:\n",
    "            print('Epoch', epoch)\n",
    "            print('Training accuracy:', acc)\n",
    "            print('Test accuracy:', test_acc)\n",
    "    print('Training finished')\n",
    "    \n",
    "    correct_prediction = tf.equal(tf.argmax(y, 1), tf.argmax(y_, 1))\n",
    "    accuracy = tf.reduce_mean(tf.cast(correct_prediction, tf.float32))\n",
    "    print('Accuracy:', accuracy.eval({x: X_test, y_: y_test2}))\n",
    "    \n",
    "    #saver.save(sess, './ckpt')"
   ]
  },
  {
   "cell_type": "code",
   "execution_count": 275,
   "metadata": {
    "scrolled": true
   },
   "outputs": [],
   "source": [
    "img = load_img('images/test/01/00014.ppm', 48)\n",
    "img = img.flatten().reshape(1, 6912)"
   ]
  },
  {
   "cell_type": "code",
   "execution_count": 273,
   "metadata": {},
   "outputs": [
    {
     "name": "stdout",
     "output_type": "stream",
     "text": [
      "INFO:tensorflow:Restoring parameters from ./ckpt\n",
      "[1]\n"
     ]
    }
   ],
   "source": [
    "sess = tf.Session()\n",
    "saver = tf.train.import_meta_graph('ckpt.meta')\n",
    "saver.restore(sess, tf.train.latest_checkpoint('./'))\n",
    "\n",
    "print(sess.run(prediction, feed_dict = {x: img}))\n"
   ]
  },
  {
   "cell_type": "code",
   "execution_count": null,
   "metadata": {},
   "outputs": [],
   "source": []
  }
 ],
 "metadata": {
  "kernelspec": {
   "display_name": "Python 3",
   "language": "python",
   "name": "python3"
  },
  "language_info": {
   "codemirror_mode": {
    "name": "ipython",
    "version": 3
   },
   "file_extension": ".py",
   "mimetype": "text/x-python",
   "name": "python",
   "nbconvert_exporter": "python",
   "pygments_lexer": "ipython3",
   "version": "3.6.5"
  }
 },
 "nbformat": 4,
 "nbformat_minor": 2
}
