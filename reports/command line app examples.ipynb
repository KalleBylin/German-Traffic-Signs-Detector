{
 "cells": [
  {
   "cell_type": "code",
   "execution_count": 156,
   "metadata": {
    "colab": {
     "autoexec": {
      "startup": false,
      "wait_interval": 0
     },
     "base_uri": "https://localhost:8080/",
     "height": 122
    },
    "colab_type": "code",
    "executionInfo": {
     "elapsed": 37759,
     "status": "ok",
     "timestamp": 1526960260406,
     "user": {
      "displayName": "Kalle Bylin",
      "photoUrl": "https://lh3.googleusercontent.com/a/default-user=s128",
      "userId": "106403157380623395607"
     },
     "user_tz": 300
    },
    "id": "ncIyKZmp8hXC",
    "outputId": "3d861db2-df71-4cf6-a37d-921faf39eae2"
   },
   "outputs": [
    {
     "name": "stdout",
     "output_type": "stream",
     "text": [
      "Downloading German Traffic Signs Dataset\r\n",
      "Download complete. Extracting files.\n",
      "Zip extracted\n",
      "Moved images to train\n",
      "Splitting data: train (80%) and test (20%)\n",
      "Done\n"
     ]
    }
   ],
   "source": [
    "!python app.py download"
   ]
  },
  {
   "cell_type": "code",
   "execution_count": 157,
   "metadata": {
    "colab": {
     "autoexec": {
      "startup": false,
      "wait_interval": 0
     },
     "base_uri": "https://localhost:8080/",
     "height": 105
    },
    "colab_type": "code",
    "executionInfo": {
     "elapsed": 11440,
     "status": "ok",
     "timestamp": 1526960271928,
     "user": {
      "displayName": "Kalle Bylin",
      "photoUrl": "https://lh3.googleusercontent.com/a/default-user=s128",
      "userId": "106403157380623395607"
     },
     "user_tz": 300
    },
    "id": "MaTBlyk98qhz",
    "outputId": "1502d5d1-089b-4249-fe27-d79a3aca10f6"
   },
   "outputs": [
    {
     "name": "stdout",
     "output_type": "stream",
     "text": [
      "Starting...\n",
      "Loaded Data\n",
      "(987, 2352)\n",
      "Training logistic regression with Scikit-learn\n",
      "Score: 0.797979797979798\n"
     ]
    }
   ],
   "source": [
    "!python app.py train --model='model1' --dir='train'"
   ]
  },
  {
   "cell_type": "code",
   "execution_count": 158,
   "metadata": {
    "colab": {
     "autoexec": {
      "startup": false,
      "wait_interval": 0
     },
     "base_uri": "https://localhost:8080/",
     "height": 723
    },
    "colab_type": "code",
    "executionInfo": {
     "elapsed": 10920,
     "status": "ok",
     "timestamp": 1526960283049,
     "user": {
      "displayName": "Kalle Bylin",
      "photoUrl": "https://lh3.googleusercontent.com/a/default-user=s128",
      "userId": "106403157380623395607"
     },
     "user_tz": 300
    },
    "id": "8yWSYARo8wC1",
    "outputId": "51c9554f-db97-4ba3-a3a5-3b0ac648358b"
   },
   "outputs": [
    {
     "name": "stdout",
     "output_type": "stream",
     "text": [
      "Starting...\n",
      "Loaded Data\n",
      "(987, 2352)\n",
      "/usr/local/lib/python3.6/dist-packages/h5py/__init__.py:36: FutureWarning: Conversion of the second argument of issubdtype from `float` to `np.floating` is deprecated. In future, it will be treated as `np.float64 == np.dtype(float).type`.\n",
      "  from ._conv import register_converters as _register_converters\n",
      "Training logistic regression with TensorFlow\n",
      "2018-05-22 03:38:07.173049: I tensorflow/stream_executor/cuda/cuda_gpu_executor.cc:898] successful NUMA node read from SysFS had negative value (-1), but there must be at least one NUMA node, so returning NUMA node zero\n",
      "2018-05-22 03:38:07.173565: I tensorflow/core/common_runtime/gpu/gpu_device.cc:1356] Found device 0 with properties: \n",
      "name: Tesla K80 major: 3 minor: 7 memoryClockRate(GHz): 0.8235\n",
      "pciBusID: 0000:00:04.0\n",
      "totalMemory: 11.17GiB freeMemory: 443.25MiB\n",
      "2018-05-22 03:38:07.173650: I tensorflow/core/common_runtime/gpu/gpu_device.cc:1435] Adding visible gpu devices: 0\n",
      "2018-05-22 03:38:07.579349: I tensorflow/core/common_runtime/gpu/gpu_device.cc:923] Device interconnect StreamExecutor with strength 1 edge matrix:\n",
      "2018-05-22 03:38:07.579458: I tensorflow/core/common_runtime/gpu/gpu_device.cc:929]      0 \n",
      "2018-05-22 03:38:07.579489: I tensorflow/core/common_runtime/gpu/gpu_device.cc:942] 0:   N \n",
      "2018-05-22 03:38:07.579717: I tensorflow/core/common_runtime/gpu/gpu_device.cc:1053] Created TensorFlow device (/job:localhost/replica:0/task:0/device:GPU:0 with 181 MB memory) -> physical GPU (device: 0, name: Tesla K80, pci bus id: 0000:00:04.0, compute capability: 3.7)\n",
      "Epoch 0\n",
      "Training accuracy: 0.0747782\n",
      "Test accuracy: 0.08585858\n",
      "Epoch 100\n",
      "Training accuracy: 0.62357414\n",
      "Test accuracy: 0.46464646\n",
      "Epoch 200\n",
      "Training accuracy: 0.84283906\n",
      "Test accuracy: 0.5707071\n",
      "Epoch 300\n",
      "Training accuracy: 0.89987326\n",
      "Test accuracy: 0.56565654\n",
      "Epoch 400\n",
      "Training accuracy: 0.9416984\n",
      "Test accuracy: 0.6060606\n",
      "Epoch 500\n",
      "Training accuracy: 0.9771863\n",
      "Test accuracy: 0.5858586\n",
      "Epoch 600\n",
      "Training accuracy: 0.9873257\n",
      "Test accuracy: 0.5858586\n",
      "Training finished\n",
      "Accuracy: 0.5858586\n"
     ]
    }
   ],
   "source": [
    "!python app.py train --model='model2' --dir='train'"
   ]
  },
  {
   "cell_type": "code",
   "execution_count": 174,
   "metadata": {
    "colab": {
     "autoexec": {
      "startup": false,
      "wait_interval": 0
     },
     "base_uri": "https://localhost:8080/",
     "height": 882
    },
    "colab_type": "code",
    "executionInfo": {
     "elapsed": 468011,
     "status": "ok",
     "timestamp": 1526961476093,
     "user": {
      "displayName": "Kalle Bylin",
      "photoUrl": "https://lh3.googleusercontent.com/a/default-user=s128",
      "userId": "106403157380623395607"
     },
     "user_tz": 300
    },
    "id": "WdmBanjU89vf",
    "outputId": "f5f8b972-0fc0-4ac1-f6eb-5a63c88819e6"
   },
   "outputs": [
    {
     "name": "stdout",
     "output_type": "stream",
     "text": [
      "Starting...\n",
      "Loaded Data\n",
      "(987, 28, 28, 3)\n",
      "/usr/local/lib/python3.6/dist-packages/h5py/__init__.py:36: FutureWarning: Conversion of the second argument of issubdtype from `float` to `np.floating` is deprecated. In future, it will be treated as `np.float64 == np.dtype(float).type`.\n",
      "  from ._conv import register_converters as _register_converters\n",
      "Training LeNet with TensorFlow\n",
      "Input: (?, 28, 28, 3)\n",
      "C1: (?, 28, 28, 6)\n",
      "S2: (?, 14, 14, 6)\n",
      "A1: (?, 14, 14, 6)\n",
      "C3: (?, 14, 14, 16)\n",
      "S4: (?, 7, 7, 16)\n",
      "C5: (?, 7, 7, 120)\n",
      "F6: (?, 84)\n",
      "Output: (?, 43)\n",
      "2018-05-22 03:50:23.385182: I tensorflow/stream_executor/cuda/cuda_gpu_executor.cc:898] successful NUMA node read from SysFS had negative value (-1), but there must be at least one NUMA node, so returning NUMA node zero\n",
      "2018-05-22 03:50:23.385590: I tensorflow/core/common_runtime/gpu/gpu_device.cc:1356] Found device 0 with properties: \n",
      "name: Tesla K80 major: 3 minor: 7 memoryClockRate(GHz): 0.8235\n",
      "pciBusID: 0000:00:04.0\n",
      "totalMemory: 11.17GiB freeMemory: 443.25MiB\n",
      "2018-05-22 03:50:23.385669: I tensorflow/core/common_runtime/gpu/gpu_device.cc:1435] Adding visible gpu devices: 0\n",
      "2018-05-22 03:50:23.784193: I tensorflow/core/common_runtime/gpu/gpu_device.cc:923] Device interconnect StreamExecutor with strength 1 edge matrix:\n",
      "2018-05-22 03:50:23.784255: I tensorflow/core/common_runtime/gpu/gpu_device.cc:929]      0 \n",
      "2018-05-22 03:50:23.784284: I tensorflow/core/common_runtime/gpu/gpu_device.cc:942] 0:   N \n",
      "2018-05-22 03:50:23.784539: I tensorflow/core/common_runtime/gpu/gpu_device.cc:1053] Created TensorFlow device (/job:localhost/replica:0/task:0/device:GPU:0 with 181 MB memory) -> physical GPU (device: 0, name: Tesla K80, pci bus id: 0000:00:04.0, compute capability: 3.7)\n",
      "2018-05-22 03:50:24.662000: W tensorflow/core/common_runtime/bfc_allocator.cc:219] Allocator (GPU_0_bfc) ran out of memory trying to allocate 176.98MiB. The caller indicates that this is not a failure, but may mean that there could be performance gains if more memory were available.\n",
      "2018-05-22 03:50:24.707186: W tensorflow/core/common_runtime/bfc_allocator.cc:219] Allocator (GPU_0_bfc) ran out of memory trying to allocate 208.22MiB. The caller indicates that this is not a failure, but may mean that there could be performance gains if more memory were available.\n",
      "2018-05-22 03:50:24.740957: W tensorflow/core/common_runtime/bfc_allocator.cc:219] Allocator (GPU_0_bfc) ran out of memory trying to allocate 253.47MiB. The caller indicates that this is not a failure, but may mean that there could be performance gains if more memory were available.\n",
      "2018-05-22 03:50:24.776484: W tensorflow/core/common_runtime/bfc_allocator.cc:219] Allocator (GPU_0_bfc) ran out of memory trying to allocate 212.44MiB. The caller indicates that this is not a failure, but may mean that there could be performance gains if more memory were available.\n",
      "2018-05-22 03:50:24.776577: W tensorflow/core/common_runtime/bfc_allocator.cc:219] Allocator (GPU_0_bfc) ran out of memory trying to allocate 453.35MiB. The caller indicates that this is not a failure, but may mean that there could be performance gains if more memory were available.\n",
      "2018-05-22 03:50:24.802777: W tensorflow/core/common_runtime/bfc_allocator.cc:219] Allocator (GPU_0_bfc) ran out of memory trying to allocate 153.52MiB. The caller indicates that this is not a failure, but may mean that there could be performance gains if more memory were available.\n",
      "Epoch 0\n",
      "Training accuracy: 0.0747782\n",
      "Test accuracy: 0.05050505\n",
      "Epoch 2000\n",
      "Training accuracy: 0.6463878\n",
      "Test accuracy: 0.56565654\n",
      "Epoch 4000\n",
      "Training accuracy: 0.6869455\n",
      "Test accuracy: 0.61616164\n",
      "Epoch 6000\n",
      "Training accuracy: 0.75918883\n",
      "Test accuracy: 0.66161615\n",
      "Epoch 8000\n",
      "Training accuracy: 0.75918883\n",
      "Test accuracy: 0.6666667\n",
      "Training finished\n",
      "Accuracy: 0.7121212\n"
     ]
    }
   ],
   "source": [
    "!python app.py train --model='model3' --dir='train'"
   ]
  },
  {
   "cell_type": "code",
   "execution_count": 160,
   "metadata": {
    "colab": {
     "autoexec": {
      "startup": false,
      "wait_interval": 0
     },
     "base_uri": "https://localhost:8080/",
     "height": 105
    },
    "colab_type": "code",
    "executionInfo": {
     "elapsed": 3054,
     "status": "ok",
     "timestamp": 1526960753725,
     "user": {
      "displayName": "Kalle Bylin",
      "photoUrl": "https://lh3.googleusercontent.com/a/default-user=s128",
      "userId": "106403157380623395607"
     },
     "user_tz": 300
    },
    "id": "LSz7KPkA_OSG",
    "outputId": "d763a622-7f32-43e6-a3ad-ca2602baae22"
   },
   "outputs": [
    {
     "name": "stdout",
     "output_type": "stream",
     "text": [
      "Starting...\n",
      "Loaded Data\n",
      "(226, 2352)\n",
      "Testing...\n",
      "Test score 0.7920353982300885\n"
     ]
    }
   ],
   "source": [
    "!python app.py test --model='model1' --dir='test'"
   ]
  },
  {
   "cell_type": "code",
   "execution_count": 161,
   "metadata": {
    "colab": {
     "autoexec": {
      "startup": false,
      "wait_interval": 0
     },
     "base_uri": "https://localhost:8080/",
     "height": 336
    },
    "colab_type": "code",
    "executionInfo": {
     "elapsed": 5078,
     "status": "ok",
     "timestamp": 1526960759382,
     "user": {
      "displayName": "Kalle Bylin",
      "photoUrl": "https://lh3.googleusercontent.com/a/default-user=s128",
      "userId": "106403157380623395607"
     },
     "user_tz": 300
    },
    "id": "Y90v4TU4T4i-",
    "outputId": "3fb96cc9-06b5-4089-edcd-712a1363ab81"
   },
   "outputs": [
    {
     "name": "stdout",
     "output_type": "stream",
     "text": [
      "Starting...\n",
      "Loaded Data\n",
      "(226, 2352)\n",
      "Testing...\n",
      "/usr/local/lib/python3.6/dist-packages/h5py/__init__.py:36: FutureWarning: Conversion of the second argument of issubdtype from `float` to `np.floating` is deprecated. In future, it will be treated as `np.float64 == np.dtype(float).type`.\n",
      "  from ._conv import register_converters as _register_converters\n",
      "2018-05-22 03:46:09.078137: I tensorflow/stream_executor/cuda/cuda_gpu_executor.cc:898] successful NUMA node read from SysFS had negative value (-1), but there must be at least one NUMA node, so returning NUMA node zero\n",
      "2018-05-22 03:46:09.078826: I tensorflow/core/common_runtime/gpu/gpu_device.cc:1356] Found device 0 with properties: \n",
      "name: Tesla K80 major: 3 minor: 7 memoryClockRate(GHz): 0.8235\n",
      "pciBusID: 0000:00:04.0\n",
      "totalMemory: 11.17GiB freeMemory: 443.25MiB\n",
      "2018-05-22 03:46:09.078910: I tensorflow/core/common_runtime/gpu/gpu_device.cc:1435] Adding visible gpu devices: 0\n",
      "2018-05-22 03:46:09.489947: I tensorflow/core/common_runtime/gpu/gpu_device.cc:923] Device interconnect StreamExecutor with strength 1 edge matrix:\n",
      "2018-05-22 03:46:09.490010: I tensorflow/core/common_runtime/gpu/gpu_device.cc:929]      0 \n",
      "2018-05-22 03:46:09.490053: I tensorflow/core/common_runtime/gpu/gpu_device.cc:942] 0:   N \n",
      "2018-05-22 03:46:09.490302: I tensorflow/core/common_runtime/gpu/gpu_device.cc:1053] Created TensorFlow device (/job:localhost/replica:0/task:0/device:GPU:0 with 181 MB memory) -> physical GPU (device: 0, name: Tesla K80, pci bus id: 0000:00:04.0, compute capability: 3.7)\n",
      "Accuracy: 0.7826087\n"
     ]
    }
   ],
   "source": [
    "!python app.py test --model='model2' --dir='test'"
   ]
  },
  {
   "cell_type": "code",
   "execution_count": 175,
   "metadata": {
    "colab": {
     "autoexec": {
      "startup": false,
      "wait_interval": 0
     },
     "base_uri": "https://localhost:8080/",
     "height": 336
    },
    "colab_type": "code",
    "executionInfo": {
     "elapsed": 5565,
     "status": "ok",
     "timestamp": 1526961488237,
     "user": {
      "displayName": "Kalle Bylin",
      "photoUrl": "https://lh3.googleusercontent.com/a/default-user=s128",
      "userId": "106403157380623395607"
     },
     "user_tz": 300
    },
    "id": "bpLg4Hv9T8js",
    "outputId": "1bc6c841-6825-4777-ee9f-16b4ee8f3209"
   },
   "outputs": [
    {
     "name": "stdout",
     "output_type": "stream",
     "text": [
      "Starting...\n",
      "Loaded Data\n",
      "(226, 28, 28, 3)\n",
      "Testing...\n",
      "/usr/local/lib/python3.6/dist-packages/h5py/__init__.py:36: FutureWarning: Conversion of the second argument of issubdtype from `float` to `np.floating` is deprecated. In future, it will be treated as `np.float64 == np.dtype(float).type`.\n",
      "  from ._conv import register_converters as _register_converters\n",
      "2018-05-22 03:58:17.339704: I tensorflow/stream_executor/cuda/cuda_gpu_executor.cc:898] successful NUMA node read from SysFS had negative value (-1), but there must be at least one NUMA node, so returning NUMA node zero\n",
      "2018-05-22 03:58:17.340081: I tensorflow/core/common_runtime/gpu/gpu_device.cc:1356] Found device 0 with properties: \n",
      "name: Tesla K80 major: 3 minor: 7 memoryClockRate(GHz): 0.8235\n",
      "pciBusID: 0000:00:04.0\n",
      "totalMemory: 11.17GiB freeMemory: 443.25MiB\n",
      "2018-05-22 03:58:17.340128: I tensorflow/core/common_runtime/gpu/gpu_device.cc:1435] Adding visible gpu devices: 0\n",
      "2018-05-22 03:58:17.739165: I tensorflow/core/common_runtime/gpu/gpu_device.cc:923] Device interconnect StreamExecutor with strength 1 edge matrix:\n",
      "2018-05-22 03:58:17.739233: I tensorflow/core/common_runtime/gpu/gpu_device.cc:929]      0 \n",
      "2018-05-22 03:58:17.739261: I tensorflow/core/common_runtime/gpu/gpu_device.cc:942] 0:   N \n",
      "2018-05-22 03:58:17.739488: I tensorflow/core/common_runtime/gpu/gpu_device.cc:1053] Created TensorFlow device (/job:localhost/replica:0/task:0/device:GPU:0 with 181 MB memory) -> physical GPU (device: 0, name: Tesla K80, pci bus id: 0000:00:04.0, compute capability: 3.7)\n",
      "Accuracy: 0.7173913\n"
     ]
    }
   ],
   "source": [
    "!python app.py test --model='model3' --dir='test'"
   ]
  },
  {
   "cell_type": "code",
   "execution_count": 176,
   "metadata": {
    "colab": {
     "autoexec": {
      "startup": false,
      "wait_interval": 0
     },
     "base_uri": "https://localhost:8080/",
     "height": 316
    },
    "colab_type": "code",
    "executionInfo": {
     "elapsed": 3349,
     "status": "ok",
     "timestamp": 1526961492541,
     "user": {
      "displayName": "Kalle Bylin",
      "photoUrl": "https://lh3.googleusercontent.com/a/default-user=s128",
      "userId": "106403157380623395607"
     },
     "user_tz": 300
    },
    "id": "QP2P1L_dvW3u",
    "outputId": "7b7e2df1-9ba1-497e-c9a0-fb4ce488e063"
   },
   "outputs": [
    {
     "name": "stdout",
     "output_type": "stream",
     "text": [
      "8\n",
      "<matplotlib.figure.Figure at 0x7ff58ab82b38>\n",
      "Predicted class: [10.]\n",
      "<matplotlib.figure.Figure at 0x7ff58aac9e48>\n",
      "Predicted class: [20.]\n",
      "<matplotlib.figure.Figure at 0x7ff5882742b0>\n",
      "Predicted class: [10.]\n",
      "<matplotlib.figure.Figure at 0x7ff5882340b8>\n",
      "Predicted class: [20.]\n",
      "<matplotlib.figure.Figure at 0x7ff5881ec358>\n",
      "Predicted class: [10.]\n",
      "<matplotlib.figure.Figure at 0x7ff588228470>\n",
      "Predicted class: [10.]\n",
      "<matplotlib.figure.Figure at 0x7ff5881e17b8>\n",
      "Predicted class: [10.]\n",
      "<matplotlib.figure.Figure at 0x7ff58819cba8>\n",
      "Predicted class: [20.]\n"
     ]
    }
   ],
   "source": [
    "!python app.py infer --model='model1' --dir='user'"
   ]
  },
  {
   "cell_type": "code",
   "execution_count": 177,
   "metadata": {
    "colab": {
     "autoexec": {
      "startup": false,
      "wait_interval": 0
     },
     "base_uri": "https://localhost:8080/",
     "height": 530
    },
    "colab_type": "code",
    "executionInfo": {
     "elapsed": 5278,
     "status": "ok",
     "timestamp": 1526961497877,
     "user": {
      "displayName": "Kalle Bylin",
      "photoUrl": "https://lh3.googleusercontent.com/a/default-user=s128",
      "userId": "106403157380623395607"
     },
     "user_tz": 300
    },
    "id": "QY9eRW3gvXCe",
    "outputId": "80d44c50-e7b1-40c0-e90a-768ca8851bbf"
   },
   "outputs": [
    {
     "name": "stdout",
     "output_type": "stream",
     "text": [
      "/usr/local/lib/python3.6/dist-packages/h5py/__init__.py:36: FutureWarning: Conversion of the second argument of issubdtype from `float` to `np.floating` is deprecated. In future, it will be treated as `np.float64 == np.dtype(float).type`.\r\n",
      "  from ._conv import register_converters as _register_converters\n",
      "2018-05-22 03:58:26.988959: I tensorflow/stream_executor/cuda/cuda_gpu_executor.cc:898] successful NUMA node read from SysFS had negative value (-1), but there must be at least one NUMA node, so returning NUMA node zero\n",
      "2018-05-22 03:58:26.989374: I tensorflow/core/common_runtime/gpu/gpu_device.cc:1356] Found device 0 with properties: \n",
      "name: Tesla K80 major: 3 minor: 7 memoryClockRate(GHz): 0.8235\n",
      "pciBusID: 0000:00:04.0\n",
      "totalMemory: 11.17GiB freeMemory: 443.25MiB\n",
      "2018-05-22 03:58:26.989422: I tensorflow/core/common_runtime/gpu/gpu_device.cc:1435] Adding visible gpu devices: 0\n",
      "2018-05-22 03:58:27.391070: I tensorflow/core/common_runtime/gpu/gpu_device.cc:923] Device interconnect StreamExecutor with strength 1 edge matrix:\n",
      "2018-05-22 03:58:27.391130: I tensorflow/core/common_runtime/gpu/gpu_device.cc:929]      0 \n",
      "2018-05-22 03:58:27.391161: I tensorflow/core/common_runtime/gpu/gpu_device.cc:942] 0:   N \n",
      "2018-05-22 03:58:27.391362: I tensorflow/core/common_runtime/gpu/gpu_device.cc:1053] Created TensorFlow device (/job:localhost/replica:0/task:0/device:GPU:0 with 181 MB memory) -> physical GPU (device: 0, name: Tesla K80, pci bus id: 0000:00:04.0, compute capability: 3.7)\n",
      "<matplotlib.figure.Figure at 0x7f40f8ba0400>\n",
      "Predicted class: [10]\n",
      "<matplotlib.figure.Figure at 0x7f40f70a7518>\n",
      "Predicted class: [29]\n",
      "<matplotlib.figure.Figure at 0x7f40f706a4a8>\n",
      "Predicted class: [10]\n",
      "<matplotlib.figure.Figure at 0x7f40f21291d0>\n",
      "Predicted class: [24]\n",
      "<matplotlib.figure.Figure at 0x7f40f20e25c0>\n",
      "Predicted class: [10]\n",
      "<matplotlib.figure.Figure at 0x7f40f209b0f0>\n",
      "Predicted class: [10]\n",
      "<matplotlib.figure.Figure at 0x7f40f20901d0>\n",
      "Predicted class: [10]\n",
      "<matplotlib.figure.Figure at 0x7f40f2057278>\n",
      "Predicted class: [29]\n"
     ]
    }
   ],
   "source": [
    "!python app.py infer --model='model2' --dir='user'"
   ]
  },
  {
   "cell_type": "code",
   "execution_count": 178,
   "metadata": {
    "colab": {
     "autoexec": {
      "startup": false,
      "wait_interval": 0
     },
     "base_uri": "https://localhost:8080/",
     "height": 389
    },
    "colab_type": "code",
    "executionInfo": {
     "elapsed": 5303,
     "status": "ok",
     "timestamp": 1526961503271,
     "user": {
      "displayName": "Kalle Bylin",
      "photoUrl": "https://lh3.googleusercontent.com/a/default-user=s128",
      "userId": "106403157380623395607"
     },
     "user_tz": 300
    },
    "id": "CKEDfTX2vXKd",
    "outputId": "bd350942-42dd-4301-882f-728c944fddd9"
   },
   "outputs": [
    {
     "name": "stdout",
     "output_type": "stream",
     "text": [
      "/usr/local/lib/python3.6/dist-packages/h5py/__init__.py:36: FutureWarning: Conversion of the second argument of issubdtype from `float` to `np.floating` is deprecated. In future, it will be treated as `np.float64 == np.dtype(float).type`.\r\n",
      "  from ._conv import register_converters as _register_converters\n",
      "2018-05-22 03:58:32.364003: I tensorflow/stream_executor/cuda/cuda_gpu_executor.cc:898] successful NUMA node read from SysFS had negative value (-1), but there must be at least one NUMA node, so returning NUMA node zero\n",
      "2018-05-22 03:58:32.364551: I tensorflow/core/common_runtime/gpu/gpu_device.cc:1356] Found device 0 with properties: \n",
      "name: Tesla K80 major: 3 minor: 7 memoryClockRate(GHz): 0.8235\n",
      "pciBusID: 0000:00:04.0\n",
      "totalMemory: 11.17GiB freeMemory: 443.25MiB\n",
      "2018-05-22 03:58:32.364598: I tensorflow/core/common_runtime/gpu/gpu_device.cc:1435] Adding visible gpu devices: 0\n",
      "2018-05-22 03:58:32.757616: I tensorflow/core/common_runtime/gpu/gpu_device.cc:923] Device interconnect StreamExecutor with strength 1 edge matrix:\n",
      "2018-05-22 03:58:32.757703: I tensorflow/core/common_runtime/gpu/gpu_device.cc:929]      0 \n",
      "2018-05-22 03:58:32.757749: I tensorflow/core/common_runtime/gpu/gpu_device.cc:942] 0:   N \n",
      "2018-05-22 03:58:32.757955: I tensorflow/core/common_runtime/gpu/gpu_device.cc:1053] Created TensorFlow device (/job:localhost/replica:0/task:0/device:GPU:0 with 181 MB memory) -> physical GPU (device: 0, name: Tesla K80, pci bus id: 0000:00:04.0, compute capability: 3.7)\n",
      "Predicted class: [10]\n",
      "Predicted class: [28]\n",
      "Predicted class: [10]\n",
      "Predicted class: [8]\n",
      "Predicted class: [10]\n",
      "Predicted class: [10]\n",
      "Predicted class: [10]\n",
      "Predicted class: [28]\n"
     ]
    }
   ],
   "source": [
    "!python app.py infer --model='model3' --dir='user'"
   ]
  }
 ],
 "metadata": {
  "accelerator": "GPU",
  "colab": {
   "default_view": {},
   "name": "model3.ipynb",
   "provenance": [],
   "version": "0.3.2",
   "views": {}
  },
  "kernelspec": {
   "display_name": "Python 3",
   "language": "python",
   "name": "python3"
  },
  "language_info": {
   "codemirror_mode": {
    "name": "ipython",
    "version": 3
   },
   "file_extension": ".py",
   "mimetype": "text/x-python",
   "name": "python",
   "nbconvert_exporter": "python",
   "pygments_lexer": "ipython3",
   "version": "3.6.5"
  }
 },
 "nbformat": 4,
 "nbformat_minor": 1
}
